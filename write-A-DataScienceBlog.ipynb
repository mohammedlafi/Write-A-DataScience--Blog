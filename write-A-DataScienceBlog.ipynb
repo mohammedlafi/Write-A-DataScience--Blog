{
 "cells": [
  {
   "cell_type": "markdown",
   "metadata": {},
   "source": [
    "## **Writing a Data Science  Blog**"
   ]
  },
  {
   "cell_type": "code",
   "execution_count": 1,
   "metadata": {},
   "outputs": [],
   "source": [
    "import numpy as np\n",
    "import pandas as pd\n",
    "import matplotlib.pyplot as plt\n",
    "%matplotlib inline"
   ]
  },
  {
   "cell_type": "code",
   "execution_count": 2,
   "metadata": {},
   "outputs": [],
   "source": [
    "df = pd.read_csv('survey_results_public.csv')\n",
    "df  = df.dropna(subset=['Salary'], axis=0)\n",
    "df_dropna = df.dropna(axis=0)\n"
   ]
  },
  {
   "cell_type": "markdown",
   "metadata": {},
   "source": [
    "### Let's take a look at the dataset "
   ]
  },
  {
   "cell_type": "code",
   "execution_count": 3,
   "metadata": {},
   "outputs": [
    {
     "data": {
      "text/plain": [
       "Index(['Respondent', 'Professional', 'ProgramHobby', 'Country', 'University',\n",
       "       'EmploymentStatus', 'FormalEducation', 'MajorUndergrad', 'HomeRemote',\n",
       "       'CompanySize',\n",
       "       ...\n",
       "       'StackOverflowMakeMoney', 'Gender', 'HighestEducationParents', 'Race',\n",
       "       'SurveyLong', 'QuestionsInteresting', 'QuestionsConfusing',\n",
       "       'InterestedAnswers', 'Salary', 'ExpectedSalary'],\n",
       "      dtype='object', length=154)"
      ]
     },
     "execution_count": 3,
     "metadata": {},
     "output_type": "execute_result"
    }
   ],
   "source": [
    "df.columns"
   ]
  },
  {
   "cell_type": "markdown",
   "metadata": {},
   "source": [
    "#Provide the number of rows and the number of columns in the dataset"
   ]
  },
  {
   "cell_type": "code",
   "execution_count": 4,
   "metadata": {},
   "outputs": [
    {
     "name": "stdout",
     "output_type": "stream",
     "text": [
      " number of rows =   12891  the number of columns =  154\n"
     ]
    }
   ],
   "source": [
    "num_rows = df.shape[0] \n",
    "num_cols = df.shape[1]  \n",
    "\n",
    "print(\" number of rows =  \", num_rows,\" the number of columns = \",  num_cols) "
   ]
  },
  {
   "cell_type": "code",
   "execution_count": 5,
   "metadata": {},
   "outputs": [
    {
     "data": {
      "text/html": [
       "<div>\n",
       "<style scoped>\n",
       "    .dataframe tbody tr th:only-of-type {\n",
       "        vertical-align: middle;\n",
       "    }\n",
       "\n",
       "    .dataframe tbody tr th {\n",
       "        vertical-align: top;\n",
       "    }\n",
       "\n",
       "    .dataframe thead th {\n",
       "        text-align: right;\n",
       "    }\n",
       "</style>\n",
       "<table border=\"1\" class=\"dataframe\">\n",
       "  <thead>\n",
       "    <tr style=\"text-align: right;\">\n",
       "      <th></th>\n",
       "      <th>Respondent</th>\n",
       "      <th>Professional</th>\n",
       "      <th>ProgramHobby</th>\n",
       "      <th>Country</th>\n",
       "      <th>University</th>\n",
       "      <th>EmploymentStatus</th>\n",
       "      <th>FormalEducation</th>\n",
       "      <th>MajorUndergrad</th>\n",
       "      <th>HomeRemote</th>\n",
       "      <th>CompanySize</th>\n",
       "      <th>...</th>\n",
       "      <th>StackOverflowMakeMoney</th>\n",
       "      <th>Gender</th>\n",
       "      <th>HighestEducationParents</th>\n",
       "      <th>Race</th>\n",
       "      <th>SurveyLong</th>\n",
       "      <th>QuestionsInteresting</th>\n",
       "      <th>QuestionsConfusing</th>\n",
       "      <th>InterestedAnswers</th>\n",
       "      <th>Salary</th>\n",
       "      <th>ExpectedSalary</th>\n",
       "    </tr>\n",
       "  </thead>\n",
       "  <tbody>\n",
       "    <tr>\n",
       "      <th>2</th>\n",
       "      <td>3</td>\n",
       "      <td>Professional developer</td>\n",
       "      <td>Yes, both</td>\n",
       "      <td>United Kingdom</td>\n",
       "      <td>No</td>\n",
       "      <td>Employed full-time</td>\n",
       "      <td>Bachelor's degree</td>\n",
       "      <td>Computer science or software engineering</td>\n",
       "      <td>Less than half the time, but at least one day ...</td>\n",
       "      <td>10,000 or more employees</td>\n",
       "      <td>...</td>\n",
       "      <td>Disagree</td>\n",
       "      <td>Male</td>\n",
       "      <td>A professional degree</td>\n",
       "      <td>White or of European descent</td>\n",
       "      <td>Somewhat agree</td>\n",
       "      <td>Agree</td>\n",
       "      <td>Disagree</td>\n",
       "      <td>Agree</td>\n",
       "      <td>113750.0</td>\n",
       "      <td>NaN</td>\n",
       "    </tr>\n",
       "    <tr>\n",
       "      <th>14</th>\n",
       "      <td>15</td>\n",
       "      <td>Professional developer</td>\n",
       "      <td>Yes, I program as a hobby</td>\n",
       "      <td>United Kingdom</td>\n",
       "      <td>No</td>\n",
       "      <td>Employed full-time</td>\n",
       "      <td>Professional degree</td>\n",
       "      <td>Computer engineering or electrical/electronics...</td>\n",
       "      <td>All or almost all the time (I'm full-time remote)</td>\n",
       "      <td>5,000 to 9,999 employees</td>\n",
       "      <td>...</td>\n",
       "      <td>Disagree</td>\n",
       "      <td>Male</td>\n",
       "      <td>High school</td>\n",
       "      <td>White or of European descent</td>\n",
       "      <td>Somewhat agree</td>\n",
       "      <td>Agree</td>\n",
       "      <td>Disagree</td>\n",
       "      <td>Agree</td>\n",
       "      <td>100000.0</td>\n",
       "      <td>NaN</td>\n",
       "    </tr>\n",
       "    <tr>\n",
       "      <th>17</th>\n",
       "      <td>18</td>\n",
       "      <td>Professional developer</td>\n",
       "      <td>Yes, both</td>\n",
       "      <td>United States</td>\n",
       "      <td>Yes, part-time</td>\n",
       "      <td>Employed full-time</td>\n",
       "      <td>Bachelor's degree</td>\n",
       "      <td>Computer science or software engineering</td>\n",
       "      <td>All or almost all the time (I'm full-time remote)</td>\n",
       "      <td>1,000 to 4,999 employees</td>\n",
       "      <td>...</td>\n",
       "      <td>Disagree</td>\n",
       "      <td>Male</td>\n",
       "      <td>A master's degree</td>\n",
       "      <td>Native American, Pacific Islander, or Indigeno...</td>\n",
       "      <td>Disagree</td>\n",
       "      <td>Agree</td>\n",
       "      <td>Disagree</td>\n",
       "      <td>Agree</td>\n",
       "      <td>130000.0</td>\n",
       "      <td>NaN</td>\n",
       "    </tr>\n",
       "    <tr>\n",
       "      <th>18</th>\n",
       "      <td>19</td>\n",
       "      <td>Professional developer</td>\n",
       "      <td>Yes, I program as a hobby</td>\n",
       "      <td>United States</td>\n",
       "      <td>No</td>\n",
       "      <td>Employed full-time</td>\n",
       "      <td>Bachelor's degree</td>\n",
       "      <td>Computer science or software engineering</td>\n",
       "      <td>A few days each month</td>\n",
       "      <td>10,000 or more employees</td>\n",
       "      <td>...</td>\n",
       "      <td>NaN</td>\n",
       "      <td>NaN</td>\n",
       "      <td>NaN</td>\n",
       "      <td>NaN</td>\n",
       "      <td>NaN</td>\n",
       "      <td>NaN</td>\n",
       "      <td>NaN</td>\n",
       "      <td>NaN</td>\n",
       "      <td>82500.0</td>\n",
       "      <td>NaN</td>\n",
       "    </tr>\n",
       "    <tr>\n",
       "      <th>22</th>\n",
       "      <td>23</td>\n",
       "      <td>Professional developer</td>\n",
       "      <td>No</td>\n",
       "      <td>Israel</td>\n",
       "      <td>No</td>\n",
       "      <td>Employed full-time</td>\n",
       "      <td>Bachelor's degree</td>\n",
       "      <td>Computer engineering or electrical/electronics...</td>\n",
       "      <td>A few days each month</td>\n",
       "      <td>500 to 999 employees</td>\n",
       "      <td>...</td>\n",
       "      <td>Somewhat agree</td>\n",
       "      <td>Male</td>\n",
       "      <td>A bachelor's degree</td>\n",
       "      <td>White or of European descent</td>\n",
       "      <td>Strongly agree</td>\n",
       "      <td>Somewhat agree</td>\n",
       "      <td>Somewhat agree</td>\n",
       "      <td>Agree</td>\n",
       "      <td>100764.0</td>\n",
       "      <td>NaN</td>\n",
       "    </tr>\n",
       "  </tbody>\n",
       "</table>\n",
       "<p>5 rows × 154 columns</p>\n",
       "</div>"
      ],
      "text/plain": [
       "    Respondent            Professional               ProgramHobby  \\\n",
       "2            3  Professional developer                  Yes, both   \n",
       "14          15  Professional developer  Yes, I program as a hobby   \n",
       "17          18  Professional developer                  Yes, both   \n",
       "18          19  Professional developer  Yes, I program as a hobby   \n",
       "22          23  Professional developer                         No   \n",
       "\n",
       "           Country      University    EmploymentStatus      FormalEducation  \\\n",
       "2   United Kingdom              No  Employed full-time    Bachelor's degree   \n",
       "14  United Kingdom              No  Employed full-time  Professional degree   \n",
       "17   United States  Yes, part-time  Employed full-time    Bachelor's degree   \n",
       "18   United States              No  Employed full-time    Bachelor's degree   \n",
       "22          Israel              No  Employed full-time    Bachelor's degree   \n",
       "\n",
       "                                       MajorUndergrad  \\\n",
       "2            Computer science or software engineering   \n",
       "14  Computer engineering or electrical/electronics...   \n",
       "17           Computer science or software engineering   \n",
       "18           Computer science or software engineering   \n",
       "22  Computer engineering or electrical/electronics...   \n",
       "\n",
       "                                           HomeRemote  \\\n",
       "2   Less than half the time, but at least one day ...   \n",
       "14  All or almost all the time (I'm full-time remote)   \n",
       "17  All or almost all the time (I'm full-time remote)   \n",
       "18                              A few days each month   \n",
       "22                              A few days each month   \n",
       "\n",
       "                 CompanySize  ... StackOverflowMakeMoney Gender  \\\n",
       "2   10,000 or more employees  ...               Disagree   Male   \n",
       "14  5,000 to 9,999 employees  ...               Disagree   Male   \n",
       "17  1,000 to 4,999 employees  ...               Disagree   Male   \n",
       "18  10,000 or more employees  ...                    NaN    NaN   \n",
       "22      500 to 999 employees  ...         Somewhat agree   Male   \n",
       "\n",
       "   HighestEducationParents                                               Race  \\\n",
       "2    A professional degree                       White or of European descent   \n",
       "14             High school                       White or of European descent   \n",
       "17       A master's degree  Native American, Pacific Islander, or Indigeno...   \n",
       "18                     NaN                                                NaN   \n",
       "22     A bachelor's degree                       White or of European descent   \n",
       "\n",
       "        SurveyLong QuestionsInteresting QuestionsConfusing InterestedAnswers  \\\n",
       "2   Somewhat agree                Agree           Disagree             Agree   \n",
       "14  Somewhat agree                Agree           Disagree             Agree   \n",
       "17        Disagree                Agree           Disagree             Agree   \n",
       "18             NaN                  NaN                NaN               NaN   \n",
       "22  Strongly agree       Somewhat agree     Somewhat agree             Agree   \n",
       "\n",
       "      Salary  ExpectedSalary  \n",
       "2   113750.0             NaN  \n",
       "14  100000.0             NaN  \n",
       "17  130000.0             NaN  \n",
       "18   82500.0             NaN  \n",
       "22  100764.0             NaN  \n",
       "\n",
       "[5 rows x 154 columns]"
      ]
     },
     "execution_count": 5,
     "metadata": {},
     "output_type": "execute_result"
    }
   ],
   "source": [
    "df.head()"
   ]
  },
  {
   "cell_type": "code",
   "execution_count": 6,
   "metadata": {},
   "outputs": [
    {
     "data": {
      "text/html": [
       "<div>\n",
       "<style scoped>\n",
       "    .dataframe tbody tr th:only-of-type {\n",
       "        vertical-align: middle;\n",
       "    }\n",
       "\n",
       "    .dataframe tbody tr th {\n",
       "        vertical-align: top;\n",
       "    }\n",
       "\n",
       "    .dataframe thead th {\n",
       "        text-align: right;\n",
       "    }\n",
       "</style>\n",
       "<table border=\"1\" class=\"dataframe\">\n",
       "  <thead>\n",
       "    <tr style=\"text-align: right;\">\n",
       "      <th></th>\n",
       "      <th>Respondent</th>\n",
       "      <th>Professional</th>\n",
       "      <th>ProgramHobby</th>\n",
       "      <th>Country</th>\n",
       "      <th>University</th>\n",
       "      <th>EmploymentStatus</th>\n",
       "      <th>FormalEducation</th>\n",
       "      <th>MajorUndergrad</th>\n",
       "      <th>HomeRemote</th>\n",
       "      <th>CompanySize</th>\n",
       "      <th>...</th>\n",
       "      <th>StackOverflowMakeMoney</th>\n",
       "      <th>Gender</th>\n",
       "      <th>HighestEducationParents</th>\n",
       "      <th>Race</th>\n",
       "      <th>SurveyLong</th>\n",
       "      <th>QuestionsInteresting</th>\n",
       "      <th>QuestionsConfusing</th>\n",
       "      <th>InterestedAnswers</th>\n",
       "      <th>Salary</th>\n",
       "      <th>ExpectedSalary</th>\n",
       "    </tr>\n",
       "  </thead>\n",
       "  <tbody>\n",
       "    <tr>\n",
       "      <th>51371</th>\n",
       "      <td>51372</td>\n",
       "      <td>Professional developer</td>\n",
       "      <td>No</td>\n",
       "      <td>Netherlands</td>\n",
       "      <td>No</td>\n",
       "      <td>Employed full-time</td>\n",
       "      <td>Bachelor's degree</td>\n",
       "      <td>Computer science or software engineering</td>\n",
       "      <td>All or almost all the time (I'm full-time remote)</td>\n",
       "      <td>Fewer than 10 employees</td>\n",
       "      <td>...</td>\n",
       "      <td>Disagree</td>\n",
       "      <td>Male</td>\n",
       "      <td>A bachelor's degree</td>\n",
       "      <td>White or of European descent</td>\n",
       "      <td>Disagree</td>\n",
       "      <td>Agree</td>\n",
       "      <td>Strongly disagree</td>\n",
       "      <td>Agree</td>\n",
       "      <td>74193.548387</td>\n",
       "      <td>NaN</td>\n",
       "    </tr>\n",
       "    <tr>\n",
       "      <th>51378</th>\n",
       "      <td>51379</td>\n",
       "      <td>Professional developer</td>\n",
       "      <td>Yes, I contribute to open source projects</td>\n",
       "      <td>Cyprus</td>\n",
       "      <td>No</td>\n",
       "      <td>Employed part-time</td>\n",
       "      <td>Secondary school</td>\n",
       "      <td>NaN</td>\n",
       "      <td>All or almost all the time (I'm full-time remote)</td>\n",
       "      <td>Fewer than 10 employees</td>\n",
       "      <td>...</td>\n",
       "      <td>Strongly disagree</td>\n",
       "      <td>Male</td>\n",
       "      <td>A doctoral degree</td>\n",
       "      <td>NaN</td>\n",
       "      <td>Somewhat agree</td>\n",
       "      <td>Strongly agree</td>\n",
       "      <td>Strongly disagree</td>\n",
       "      <td>Strongly agree</td>\n",
       "      <td>107526.881720</td>\n",
       "      <td>NaN</td>\n",
       "    </tr>\n",
       "    <tr>\n",
       "      <th>51382</th>\n",
       "      <td>51383</td>\n",
       "      <td>Professional developer</td>\n",
       "      <td>Yes, I program as a hobby</td>\n",
       "      <td>France</td>\n",
       "      <td>No</td>\n",
       "      <td>Employed full-time</td>\n",
       "      <td>Master's degree</td>\n",
       "      <td>Computer science or software engineering</td>\n",
       "      <td>Never</td>\n",
       "      <td>100 to 499 employees</td>\n",
       "      <td>...</td>\n",
       "      <td>Disagree</td>\n",
       "      <td>Male</td>\n",
       "      <td>A master's degree</td>\n",
       "      <td>White or of European descent</td>\n",
       "      <td>Agree</td>\n",
       "      <td>Agree</td>\n",
       "      <td>Disagree</td>\n",
       "      <td>Somewhat agree</td>\n",
       "      <td>32258.064516</td>\n",
       "      <td>NaN</td>\n",
       "    </tr>\n",
       "    <tr>\n",
       "      <th>51387</th>\n",
       "      <td>51388</td>\n",
       "      <td>Professional developer</td>\n",
       "      <td>Yes, I program as a hobby</td>\n",
       "      <td>United States</td>\n",
       "      <td>No</td>\n",
       "      <td>Employed full-time</td>\n",
       "      <td>Bachelor's degree</td>\n",
       "      <td>A social science</td>\n",
       "      <td>A few days each month</td>\n",
       "      <td>100 to 499 employees</td>\n",
       "      <td>...</td>\n",
       "      <td>Disagree</td>\n",
       "      <td>Male</td>\n",
       "      <td>A doctoral degree</td>\n",
       "      <td>East Asian; White or of European descent</td>\n",
       "      <td>Disagree</td>\n",
       "      <td>Agree</td>\n",
       "      <td>Strongly disagree</td>\n",
       "      <td>Strongly agree</td>\n",
       "      <td>58000.000000</td>\n",
       "      <td>NaN</td>\n",
       "    </tr>\n",
       "    <tr>\n",
       "      <th>51390</th>\n",
       "      <td>51391</td>\n",
       "      <td>Professional developer</td>\n",
       "      <td>Yes, I program as a hobby</td>\n",
       "      <td>United States</td>\n",
       "      <td>No</td>\n",
       "      <td>Employed full-time</td>\n",
       "      <td>Bachelor's degree</td>\n",
       "      <td>Computer science or software engineering</td>\n",
       "      <td>Never</td>\n",
       "      <td>Fewer than 10 employees</td>\n",
       "      <td>...</td>\n",
       "      <td>Disagree</td>\n",
       "      <td>Male</td>\n",
       "      <td>A bachelor's degree</td>\n",
       "      <td>White or of European descent</td>\n",
       "      <td>Disagree</td>\n",
       "      <td>Agree</td>\n",
       "      <td>Disagree</td>\n",
       "      <td>Strongly agree</td>\n",
       "      <td>40000.000000</td>\n",
       "      <td>NaN</td>\n",
       "    </tr>\n",
       "  </tbody>\n",
       "</table>\n",
       "<p>5 rows × 154 columns</p>\n",
       "</div>"
      ],
      "text/plain": [
       "       Respondent            Professional  \\\n",
       "51371       51372  Professional developer   \n",
       "51378       51379  Professional developer   \n",
       "51382       51383  Professional developer   \n",
       "51387       51388  Professional developer   \n",
       "51390       51391  Professional developer   \n",
       "\n",
       "                                    ProgramHobby        Country University  \\\n",
       "51371                                         No    Netherlands         No   \n",
       "51378  Yes, I contribute to open source projects         Cyprus         No   \n",
       "51382                  Yes, I program as a hobby         France         No   \n",
       "51387                  Yes, I program as a hobby  United States         No   \n",
       "51390                  Yes, I program as a hobby  United States         No   \n",
       "\n",
       "         EmploymentStatus    FormalEducation  \\\n",
       "51371  Employed full-time  Bachelor's degree   \n",
       "51378  Employed part-time   Secondary school   \n",
       "51382  Employed full-time    Master's degree   \n",
       "51387  Employed full-time  Bachelor's degree   \n",
       "51390  Employed full-time  Bachelor's degree   \n",
       "\n",
       "                                 MajorUndergrad  \\\n",
       "51371  Computer science or software engineering   \n",
       "51378                                       NaN   \n",
       "51382  Computer science or software engineering   \n",
       "51387                          A social science   \n",
       "51390  Computer science or software engineering   \n",
       "\n",
       "                                              HomeRemote  \\\n",
       "51371  All or almost all the time (I'm full-time remote)   \n",
       "51378  All or almost all the time (I'm full-time remote)   \n",
       "51382                                              Never   \n",
       "51387                              A few days each month   \n",
       "51390                                              Never   \n",
       "\n",
       "                   CompanySize  ... StackOverflowMakeMoney Gender  \\\n",
       "51371  Fewer than 10 employees  ...               Disagree   Male   \n",
       "51378  Fewer than 10 employees  ...      Strongly disagree   Male   \n",
       "51382     100 to 499 employees  ...               Disagree   Male   \n",
       "51387     100 to 499 employees  ...               Disagree   Male   \n",
       "51390  Fewer than 10 employees  ...               Disagree   Male   \n",
       "\n",
       "      HighestEducationParents                                      Race  \\\n",
       "51371     A bachelor's degree              White or of European descent   \n",
       "51378       A doctoral degree                                       NaN   \n",
       "51382       A master's degree              White or of European descent   \n",
       "51387       A doctoral degree  East Asian; White or of European descent   \n",
       "51390     A bachelor's degree              White or of European descent   \n",
       "\n",
       "           SurveyLong QuestionsInteresting QuestionsConfusing  \\\n",
       "51371        Disagree                Agree  Strongly disagree   \n",
       "51378  Somewhat agree       Strongly agree  Strongly disagree   \n",
       "51382           Agree                Agree           Disagree   \n",
       "51387        Disagree                Agree  Strongly disagree   \n",
       "51390        Disagree                Agree           Disagree   \n",
       "\n",
       "      InterestedAnswers         Salary  ExpectedSalary  \n",
       "51371             Agree   74193.548387             NaN  \n",
       "51378    Strongly agree  107526.881720             NaN  \n",
       "51382    Somewhat agree   32258.064516             NaN  \n",
       "51387    Strongly agree   58000.000000             NaN  \n",
       "51390    Strongly agree   40000.000000             NaN  \n",
       "\n",
       "[5 rows x 154 columns]"
      ]
     },
     "execution_count": 6,
     "metadata": {},
     "output_type": "execute_result"
    }
   ],
   "source": [
    "df.tail()"
   ]
  },
  {
   "cell_type": "code",
   "execution_count": 7,
   "metadata": {},
   "outputs": [],
   "source": [
    "df2 = pd.read_csv('./survey_results_schema.csv')\n",
    "def get_desc ( col_name, schema):\n",
    "    '''\n",
    "    input\n",
    "    output\n",
    "    '''\n",
    "    desciption = list(schema[schema['Column']==col_name]['Question'])[0]\n",
    "    return desciption"
   ]
  },
  {
   "cell_type": "code",
   "execution_count": 8,
   "metadata": {},
   "outputs": [
    {
     "name": "stdout",
     "output_type": "stream",
     "text": [
      "Which of the following best describes the highest level of formal education that you've completed?\n"
     ]
    }
   ],
   "source": [
    "print( get_desc('FormalEducation',df2))"
   ]
  },
  {
   "cell_type": "code",
   "execution_count": 9,
   "metadata": {},
   "outputs": [
    {
     "data": {
      "text/plain": [
       "Bachelor's degree                                                    6407\n",
       "Master's degree                                                      3077\n",
       "Some college/university study without earning a bachelor's degree    2050\n",
       "Secondary school                                                      761\n",
       "Doctoral degree                                                       293\n",
       "Professional degree                                                   143\n",
       "I never completed any formal education                                 60\n",
       "Primary/elementary school                                              55\n",
       "I prefer not to answer                                                 45\n",
       "Name: FormalEducation, dtype: int64"
      ]
     },
     "execution_count": 9,
     "metadata": {},
     "output_type": "execute_result"
    }
   ],
   "source": [
    "df['FormalEducation'].value_counts()"
   ]
  },
  {
   "cell_type": "code",
   "execution_count": 10,
   "metadata": {},
   "outputs": [
    {
     "data": {
      "image/png": "[encoded data removed]",
      "text/plain": [
       "<Figure size 432x288 with 1 Axes>"
      ]
     },
     "metadata": {
      "needs_background": "light"
     },
     "output_type": "display_data"
    }
   ],
   "source": [
    "ed_vals =df.FormalEducation.value_counts()\n",
    "(ed_vals/df.shape[0]).plot(kind=\"bar\");\n",
    "plt.title(\"Formal Education\");"
   ]
  },
  {
   "cell_type": "code",
   "execution_count": 11,
   "metadata": {},
   "outputs": [],
   "source": [
    "df_FormalEducation = df.loc[:, ['FormalEducation','Salary']].groupby(by='FormalEducation').mean().sort_values('Salary', ascending=False)"
   ]
  },
  {
   "cell_type": "code",
   "execution_count": 12,
   "metadata": {},
   "outputs": [
    {
     "data": {
      "text/html": [
       "<div>\n",
       "<style scoped>\n",
       "    .dataframe tbody tr th:only-of-type {\n",
       "        vertical-align: middle;\n",
       "    }\n",
       "\n",
       "    .dataframe tbody tr th {\n",
       "        vertical-align: top;\n",
       "    }\n",
       "\n",
       "    .dataframe thead th {\n",
       "        text-align: right;\n",
       "    }\n",
       "</style>\n",
       "<table border=\"1\" class=\"dataframe\">\n",
       "  <thead>\n",
       "    <tr style=\"text-align: right;\">\n",
       "      <th></th>\n",
       "      <th>Salary</th>\n",
       "    </tr>\n",
       "    <tr>\n",
       "      <th>FormalEducation</th>\n",
       "      <th></th>\n",
       "    </tr>\n",
       "  </thead>\n",
       "  <tbody>\n",
       "    <tr>\n",
       "      <th>Doctoral degree</th>\n",
       "      <td>78527.933053</td>\n",
       "    </tr>\n",
       "    <tr>\n",
       "      <th>Primary/elementary school</th>\n",
       "      <td>62677.337356</td>\n",
       "    </tr>\n",
       "    <tr>\n",
       "      <th>Master's degree</th>\n",
       "      <td>58250.838766</td>\n",
       "    </tr>\n",
       "    <tr>\n",
       "      <th>Bachelor's degree</th>\n",
       "      <td>56914.358553</td>\n",
       "    </tr>\n",
       "    <tr>\n",
       "      <th>Some college/university study without earning a bachelor's degree</th>\n",
       "      <td>55912.810459</td>\n",
       "    </tr>\n",
       "    <tr>\n",
       "      <th>I never completed any formal education</th>\n",
       "      <td>44430.660621</td>\n",
       "    </tr>\n",
       "    <tr>\n",
       "      <th>Secondary school</th>\n",
       "      <td>40395.148419</td>\n",
       "    </tr>\n",
       "    <tr>\n",
       "      <th>Professional degree</th>\n",
       "      <td>39503.658863</td>\n",
       "    </tr>\n",
       "    <tr>\n",
       "      <th>I prefer not to answer</th>\n",
       "      <td>38284.836141</td>\n",
       "    </tr>\n",
       "  </tbody>\n",
       "</table>\n",
       "</div>"
      ],
      "text/plain": [
       "                                                          Salary\n",
       "FormalEducation                                                 \n",
       "Doctoral degree                                     78527.933053\n",
       "Primary/elementary school                           62677.337356\n",
       "Master's degree                                     58250.838766\n",
       "Bachelor's degree                                   56914.358553\n",
       "Some college/university study without earning a...  55912.810459\n",
       "I never completed any formal education              44430.660621\n",
       "Secondary school                                    40395.148419\n",
       "Professional degree                                 39503.658863\n",
       "I prefer not to answer                              38284.836141"
      ]
     },
     "execution_count": 12,
     "metadata": {},
     "output_type": "execute_result"
    }
   ],
   "source": [
    "df_FormalEducation\n"
   ]
  },
  {
   "cell_type": "code",
   "execution_count": 13,
   "metadata": {
    "scrolled": true
   },
   "outputs": [
    {
     "data": {
      "text/plain": [
       "<matplotlib.axes._subplots.AxesSubplot at 0x290d98b4ef0>"
      ]
     },
     "execution_count": 13,
     "metadata": {},
     "output_type": "execute_result"
    },
    {
     "data": {
      "image/png": "[encoded data removed]",
      "text/plain": [
       "<Figure size 432x288 with 1 Axes>"
      ]
     },
     "metadata": {
      "needs_background": "light"
     },
     "output_type": "display_data"
    }
   ],
   "source": [
    "df_FormalEducation.plot(kind='bar')\n",
    "\n"
   ]
  },
  {
   "cell_type": "code",
   "execution_count": null,
   "metadata": {},
   "outputs": [],
   "source": []
  },
  {
   "cell_type": "code",
   "execution_count": 14,
   "metadata": {},
   "outputs": [
    {
     "name": "stdout",
     "output_type": "stream",
     "text": [
      "Which of the following best describes your main field of study (aka 'major') in college or university/for your undergraduate studies?\n"
     ]
    }
   ],
   "source": [
    "print( get_desc('MajorUndergrad',df2))"
   ]
  },
  {
   "cell_type": "code",
   "execution_count": 15,
   "metadata": {},
   "outputs": [],
   "source": [
    "df_counts_majorUndergrad =df['MajorUndergrad'].value_counts()"
   ]
  },
  {
   "cell_type": "code",
   "execution_count": 16,
   "metadata": {},
   "outputs": [
    {
     "data": {
      "text/plain": [
       "Computer science or software engineering                        6483\n",
       "Computer engineering or electrical/electronics engineering      1097\n",
       "Computer programming or Web development                          992\n",
       "A natural science                                                491\n",
       "Information technology, networking, or system administration     477\n",
       "Mathematics or statistics                                        447\n",
       "A non-computer-focused engineering discipline                    425\n",
       "A humanities discipline                                          278\n",
       "Something else                                                   274\n",
       "A business discipline                                            222\n",
       "Fine arts or performing arts                                     195\n",
       "Management information systems                                   182\n",
       "A social science                                                 165\n",
       "I never declared a major                                         162\n",
       "Psychology                                                        53\n",
       "A health science                                                  21\n",
       "Name: MajorUndergrad, dtype: int64"
      ]
     },
     "execution_count": 16,
     "metadata": {},
     "output_type": "execute_result"
    }
   ],
   "source": [
    "df_counts_majorUndergrad"
   ]
  },
  {
   "cell_type": "code",
   "execution_count": 17,
   "metadata": {},
   "outputs": [
    {
     "data": {
      "image/png": "[encoded data removed]",
      "text/plain": [
       "<Figure size 432x288 with 1 Axes>"
      ]
     },
     "metadata": {
      "needs_background": "light"
     },
     "output_type": "display_data"
    }
   ],
   "source": [
    "ed_vals =df.MajorUndergrad.value_counts()\n",
    "(ed_vals/df.shape[0]).plot(kind=\"bar\");\n",
    "plt.title(\"MajorUndergrad\");"
   ]
  },
  {
   "cell_type": "code",
   "execution_count": 18,
   "metadata": {},
   "outputs": [],
   "source": [
    "df_MajorUndergrad = df.loc[:, ['MajorUndergrad','Salary']].groupby(by='MajorUndergrad').mean().sort_values('Salary', ascending=False)"
   ]
  },
  {
   "cell_type": "code",
   "execution_count": 19,
   "metadata": {},
   "outputs": [
    {
     "data": {
      "text/html": [
       "<div>\n",
       "<style scoped>\n",
       "    .dataframe tbody tr th:only-of-type {\n",
       "        vertical-align: middle;\n",
       "    }\n",
       "\n",
       "    .dataframe tbody tr th {\n",
       "        vertical-align: top;\n",
       "    }\n",
       "\n",
       "    .dataframe thead th {\n",
       "        text-align: right;\n",
       "    }\n",
       "</style>\n",
       "<table border=\"1\" class=\"dataframe\">\n",
       "  <thead>\n",
       "    <tr style=\"text-align: right;\">\n",
       "      <th></th>\n",
       "      <th>Salary</th>\n",
       "    </tr>\n",
       "    <tr>\n",
       "      <th>MajorUndergrad</th>\n",
       "      <th></th>\n",
       "    </tr>\n",
       "  </thead>\n",
       "  <tbody>\n",
       "    <tr>\n",
       "      <th>Psychology</th>\n",
       "      <td>81140.118824</td>\n",
       "    </tr>\n",
       "    <tr>\n",
       "      <th>A social science</th>\n",
       "      <td>71763.452093</td>\n",
       "    </tr>\n",
       "    <tr>\n",
       "      <th>Fine arts or performing arts</th>\n",
       "      <td>71446.616378</td>\n",
       "    </tr>\n",
       "    <tr>\n",
       "      <th>Management information systems</th>\n",
       "      <td>69320.194888</td>\n",
       "    </tr>\n",
       "    <tr>\n",
       "      <th>A humanities discipline</th>\n",
       "      <td>68127.027419</td>\n",
       "    </tr>\n",
       "    <tr>\n",
       "      <th>A business discipline</th>\n",
       "      <td>67613.345308</td>\n",
       "    </tr>\n",
       "    <tr>\n",
       "      <th>A natural science</th>\n",
       "      <td>65908.110996</td>\n",
       "    </tr>\n",
       "    <tr>\n",
       "      <th>Mathematics or statistics</th>\n",
       "      <td>65691.721530</td>\n",
       "    </tr>\n",
       "    <tr>\n",
       "      <th>I never declared a major</th>\n",
       "      <td>64237.371671</td>\n",
       "    </tr>\n",
       "    <tr>\n",
       "      <th>A non-computer-focused engineering discipline</th>\n",
       "      <td>62805.509136</td>\n",
       "    </tr>\n",
       "    <tr>\n",
       "      <th>Something else</th>\n",
       "      <td>60472.265062</td>\n",
       "    </tr>\n",
       "    <tr>\n",
       "      <th>Computer science or software engineering</th>\n",
       "      <td>57094.950937</td>\n",
       "    </tr>\n",
       "    <tr>\n",
       "      <th>Computer engineering or electrical/electronics engineering</th>\n",
       "      <td>55841.762890</td>\n",
       "    </tr>\n",
       "    <tr>\n",
       "      <th>A health science</th>\n",
       "      <td>53386.363006</td>\n",
       "    </tr>\n",
       "    <tr>\n",
       "      <th>Information technology, networking, or system administration</th>\n",
       "      <td>45921.675673</td>\n",
       "    </tr>\n",
       "    <tr>\n",
       "      <th>Computer programming or Web development</th>\n",
       "      <td>40919.668076</td>\n",
       "    </tr>\n",
       "  </tbody>\n",
       "</table>\n",
       "</div>"
      ],
      "text/plain": [
       "                                                          Salary\n",
       "MajorUndergrad                                                  \n",
       "Psychology                                          81140.118824\n",
       "A social science                                    71763.452093\n",
       "Fine arts or performing arts                        71446.616378\n",
       "Management information systems                      69320.194888\n",
       "A humanities discipline                             68127.027419\n",
       "A business discipline                               67613.345308\n",
       "A natural science                                   65908.110996\n",
       "Mathematics or statistics                           65691.721530\n",
       "I never declared a major                            64237.371671\n",
       "A non-computer-focused engineering discipline       62805.509136\n",
       "Something else                                      60472.265062\n",
       "Computer science or software engineering            57094.950937\n",
       "Computer engineering or electrical/electronics ...  55841.762890\n",
       "A health science                                    53386.363006\n",
       "Information technology, networking, or system a...  45921.675673\n",
       "Computer programming or Web development             40919.668076"
      ]
     },
     "execution_count": 19,
     "metadata": {},
     "output_type": "execute_result"
    }
   ],
   "source": [
    "df_MajorUndergrad\n"
   ]
  },
  {
   "cell_type": "code",
   "execution_count": 20,
   "metadata": {},
   "outputs": [
    {
     "data": {
      "text/plain": [
       "<matplotlib.axes._subplots.AxesSubplot at 0x290d983a898>"
      ]
     },
     "execution_count": 20,
     "metadata": {},
     "output_type": "execute_result"
    },
    {
     "data": {
      "image/png": "[encoded data removed]",
      "text/plain": [
       "<Figure size 432x288 with 1 Axes>"
      ]
     },
     "metadata": {
      "needs_background": "light"
     },
     "output_type": "display_data"
    }
   ],
   "source": [
    "df_MajorUndergrad.plot(kind='bar')\n"
   ]
  },
  {
   "cell_type": "code",
   "execution_count": null,
   "metadata": {},
   "outputs": [],
   "source": []
  },
  {
   "cell_type": "code",
   "execution_count": null,
   "metadata": {},
   "outputs": [],
   "source": []
  },
  {
   "cell_type": "code",
   "execution_count": 21,
   "metadata": {},
   "outputs": [
    {
     "name": "stdout",
     "output_type": "stream",
     "text": [
      "What is the highest level of education received by either of your parents?\n"
     ]
    }
   ],
   "source": [
    "print( get_desc('HighestEducationParents',df2))"
   ]
  },
  {
   "cell_type": "code",
   "execution_count": 22,
   "metadata": {},
   "outputs": [
    {
     "data": {
      "text/plain": [
       "A bachelor's degree                                    3550\n",
       "A master's degree                                      2603\n",
       "High school                                            2051\n",
       "Some college/university study, no bachelor's degree    1619\n",
       "A doctoral degree                                       625\n",
       "A professional degree                                   551\n",
       "Primary/elementary school                               414\n",
       "I don't know/not sure                                   167\n",
       "I prefer not to answer                                   65\n",
       "No education                                             58\n",
       "Name: HighestEducationParents, dtype: int64"
      ]
     },
     "execution_count": 22,
     "metadata": {},
     "output_type": "execute_result"
    }
   ],
   "source": [
    "df['HighestEducationParents'].value_counts()\n"
   ]
  },
  {
   "cell_type": "code",
   "execution_count": 23,
   "metadata": {},
   "outputs": [
    {
     "data": {
      "image/png": "[encoded data removed]",
      "text/plain": [
       "<Figure size 432x288 with 1 Axes>"
      ]
     },
     "metadata": {
      "needs_background": "light"
     },
     "output_type": "display_data"
    }
   ],
   "source": [
    "ed_vals =df.HighestEducationParents.value_counts()\n",
    "(ed_vals/df.shape[0]).plot(kind=\"bar\");\n",
    "plt.title(\"HighestEducationParents\");"
   ]
  },
  {
   "cell_type": "code",
   "execution_count": 24,
   "metadata": {},
   "outputs": [],
   "source": [
    "df_HighestEducationParents =df.loc[:, ['HighestEducationParents','Salary']].groupby(by='HighestEducationParents').mean().sort_values('Salary', ascending=False)"
   ]
  },
  {
   "cell_type": "code",
   "execution_count": 25,
   "metadata": {},
   "outputs": [
    {
     "data": {
      "text/html": [
       "<div>\n",
       "<style scoped>\n",
       "    .dataframe tbody tr th:only-of-type {\n",
       "        vertical-align: middle;\n",
       "    }\n",
       "\n",
       "    .dataframe tbody tr th {\n",
       "        vertical-align: top;\n",
       "    }\n",
       "\n",
       "    .dataframe thead th {\n",
       "        text-align: right;\n",
       "    }\n",
       "</style>\n",
       "<table border=\"1\" class=\"dataframe\">\n",
       "  <thead>\n",
       "    <tr style=\"text-align: right;\">\n",
       "      <th></th>\n",
       "      <th>Salary</th>\n",
       "    </tr>\n",
       "    <tr>\n",
       "      <th>HighestEducationParents</th>\n",
       "      <th></th>\n",
       "    </tr>\n",
       "  </thead>\n",
       "  <tbody>\n",
       "    <tr>\n",
       "      <th>A doctoral degree</th>\n",
       "      <td>68611.436276</td>\n",
       "    </tr>\n",
       "    <tr>\n",
       "      <th>A professional degree</th>\n",
       "      <td>64436.422260</td>\n",
       "    </tr>\n",
       "    <tr>\n",
       "      <th>A master's degree</th>\n",
       "      <td>60454.005886</td>\n",
       "    </tr>\n",
       "    <tr>\n",
       "      <th>Some college/university study, no bachelor's degree</th>\n",
       "      <td>60013.580080</td>\n",
       "    </tr>\n",
       "    <tr>\n",
       "      <th>A bachelor's degree</th>\n",
       "      <td>57204.205486</td>\n",
       "    </tr>\n",
       "    <tr>\n",
       "      <th>High school</th>\n",
       "      <td>50930.764811</td>\n",
       "    </tr>\n",
       "    <tr>\n",
       "      <th>I don't know/not sure</th>\n",
       "      <td>49553.558412</td>\n",
       "    </tr>\n",
       "    <tr>\n",
       "      <th>I prefer not to answer</th>\n",
       "      <td>45081.722501</td>\n",
       "    </tr>\n",
       "    <tr>\n",
       "      <th>Primary/elementary school</th>\n",
       "      <td>39337.837086</td>\n",
       "    </tr>\n",
       "    <tr>\n",
       "      <th>No education</th>\n",
       "      <td>38277.773591</td>\n",
       "    </tr>\n",
       "  </tbody>\n",
       "</table>\n",
       "</div>"
      ],
      "text/plain": [
       "                                                          Salary\n",
       "HighestEducationParents                                         \n",
       "A doctoral degree                                   68611.436276\n",
       "A professional degree                               64436.422260\n",
       "A master's degree                                   60454.005886\n",
       "Some college/university study, no bachelor's de...  60013.580080\n",
       "A bachelor's degree                                 57204.205486\n",
       "High school                                         50930.764811\n",
       "I don't know/not sure                               49553.558412\n",
       "I prefer not to answer                              45081.722501\n",
       "Primary/elementary school                           39337.837086\n",
       "No education                                        38277.773591"
      ]
     },
     "execution_count": 25,
     "metadata": {},
     "output_type": "execute_result"
    }
   ],
   "source": [
    "df_HighestEducationParents"
   ]
  },
  {
   "cell_type": "code",
   "execution_count": 26,
   "metadata": {
    "scrolled": true
   },
   "outputs": [
    {
     "data": {
      "text/plain": [
       "<matplotlib.axes._subplots.AxesSubplot at 0x290d98780f0>"
      ]
     },
     "execution_count": 26,
     "metadata": {},
     "output_type": "execute_result"
    },
    {
     "data": {
      "image/png": "[encoded data removed]",
      "text/plain": [
       "<Figure size 432x288 with 1 Axes>"
      ]
     },
     "metadata": {
      "needs_background": "light"
     },
     "output_type": "display_data"
    }
   ],
   "source": [
    "df_HighestEducationParents.plot(kind='bar')"
   ]
  },
  {
   "cell_type": "code",
   "execution_count": 27,
   "metadata": {},
   "outputs": [
    {
     "name": "stdout",
     "output_type": "stream",
     "text": [
      "What is the highest level of education received by either of your parents?\n"
     ]
    }
   ],
   "source": [
    "print( get_desc('HighestEducationParents',df2))"
   ]
  },
  {
   "cell_type": "code",
   "execution_count": 28,
   "metadata": {
    "scrolled": true
   },
   "outputs": [
    {
     "data": {
      "text/plain": [
       "A bachelor's degree                                    3550\n",
       "A master's degree                                      2603\n",
       "High school                                            2051\n",
       "Some college/university study, no bachelor's degree    1619\n",
       "A doctoral degree                                       625\n",
       "A professional degree                                   551\n",
       "Primary/elementary school                               414\n",
       "I don't know/not sure                                   167\n",
       "I prefer not to answer                                   65\n",
       "No education                                             58\n",
       "Name: HighestEducationParents, dtype: int64"
      ]
     },
     "execution_count": 28,
     "metadata": {},
     "output_type": "execute_result"
    }
   ],
   "source": [
    "df['HighestEducationParents'].value_counts()\n"
   ]
  },
  {
   "cell_type": "code",
   "execution_count": 29,
   "metadata": {
    "scrolled": true
   },
   "outputs": [
    {
     "data": {
      "image/png": "[encoded data removed]",
      "text/plain": [
       "<Figure size 432x288 with 1 Axes>"
      ]
     },
     "metadata": {
      "needs_background": "light"
     },
     "output_type": "display_data"
    }
   ],
   "source": [
    "ed_vals =df.HighestEducationParents.value_counts()\n",
    "(ed_vals/df.shape[0]).plot(kind=\"bar\");\n",
    "plt.title(\"HighestEducationParents\");"
   ]
  },
  {
   "cell_type": "code",
   "execution_count": 30,
   "metadata": {},
   "outputs": [],
   "source": [
    "df_HighestEducationParents =df.loc[:, ['HighestEducationParents','Salary']].groupby(by='HighestEducationParents').mean().sort_values('Salary', ascending=False)"
   ]
  },
  {
   "cell_type": "code",
   "execution_count": 31,
   "metadata": {},
   "outputs": [
    {
     "data": {
      "text/html": [
       "<div>\n",
       "<style scoped>\n",
       "    .dataframe tbody tr th:only-of-type {\n",
       "        vertical-align: middle;\n",
       "    }\n",
       "\n",
       "    .dataframe tbody tr th {\n",
       "        vertical-align: top;\n",
       "    }\n",
       "\n",
       "    .dataframe thead th {\n",
       "        text-align: right;\n",
       "    }\n",
       "</style>\n",
       "<table border=\"1\" class=\"dataframe\">\n",
       "  <thead>\n",
       "    <tr style=\"text-align: right;\">\n",
       "      <th></th>\n",
       "      <th>Salary</th>\n",
       "    </tr>\n",
       "    <tr>\n",
       "      <th>HighestEducationParents</th>\n",
       "      <th></th>\n",
       "    </tr>\n",
       "  </thead>\n",
       "  <tbody>\n",
       "    <tr>\n",
       "      <th>A doctoral degree</th>\n",
       "      <td>68611.436276</td>\n",
       "    </tr>\n",
       "    <tr>\n",
       "      <th>A professional degree</th>\n",
       "      <td>64436.422260</td>\n",
       "    </tr>\n",
       "    <tr>\n",
       "      <th>A master's degree</th>\n",
       "      <td>60454.005886</td>\n",
       "    </tr>\n",
       "    <tr>\n",
       "      <th>Some college/university study, no bachelor's degree</th>\n",
       "      <td>60013.580080</td>\n",
       "    </tr>\n",
       "    <tr>\n",
       "      <th>A bachelor's degree</th>\n",
       "      <td>57204.205486</td>\n",
       "    </tr>\n",
       "    <tr>\n",
       "      <th>High school</th>\n",
       "      <td>50930.764811</td>\n",
       "    </tr>\n",
       "    <tr>\n",
       "      <th>I don't know/not sure</th>\n",
       "      <td>49553.558412</td>\n",
       "    </tr>\n",
       "    <tr>\n",
       "      <th>I prefer not to answer</th>\n",
       "      <td>45081.722501</td>\n",
       "    </tr>\n",
       "    <tr>\n",
       "      <th>Primary/elementary school</th>\n",
       "      <td>39337.837086</td>\n",
       "    </tr>\n",
       "    <tr>\n",
       "      <th>No education</th>\n",
       "      <td>38277.773591</td>\n",
       "    </tr>\n",
       "  </tbody>\n",
       "</table>\n",
       "</div>"
      ],
      "text/plain": [
       "                                                          Salary\n",
       "HighestEducationParents                                         \n",
       "A doctoral degree                                   68611.436276\n",
       "A professional degree                               64436.422260\n",
       "A master's degree                                   60454.005886\n",
       "Some college/university study, no bachelor's de...  60013.580080\n",
       "A bachelor's degree                                 57204.205486\n",
       "High school                                         50930.764811\n",
       "I don't know/not sure                               49553.558412\n",
       "I prefer not to answer                              45081.722501\n",
       "Primary/elementary school                           39337.837086\n",
       "No education                                        38277.773591"
      ]
     },
     "execution_count": 31,
     "metadata": {},
     "output_type": "execute_result"
    }
   ],
   "source": [
    "df_HighestEducationParents"
   ]
  },
  {
   "cell_type": "code",
   "execution_count": 32,
   "metadata": {},
   "outputs": [
    {
     "data": {
      "text/plain": [
       "<matplotlib.axes._subplots.AxesSubplot at 0x290d9ab5278>"
      ]
     },
     "execution_count": 32,
     "metadata": {},
     "output_type": "execute_result"
    },
    {
     "data": {
      "image/png": "[encoded data removed]",
      "text/plain": [
       "<Figure size 432x288 with 1 Axes>"
      ]
     },
     "metadata": {
      "needs_background": "light"
     },
     "output_type": "display_data"
    }
   ],
   "source": [
    "df_HighestEducationParents.plot(kind='bar')"
   ]
  },
  {
   "cell_type": "code",
   "execution_count": null,
   "metadata": {},
   "outputs": [],
   "source": []
  },
  {
   "cell_type": "code",
   "execution_count": 33,
   "metadata": {
    "scrolled": false
   },
   "outputs": [
    {
     "data": {
      "text/plain": [
       "Self-taught                                                                                                                                         870\n",
       "On-the-job training; Self-taught                                                                                                                    589\n",
       "Self-taught; Open source contributions                                                                                                              458\n",
       "Online course; On-the-job training; Self-taught                                                                                                     450\n",
       "Online course; Self-taught                                                                                                                          396\n",
       "On-the-job training; Self-taught; Open source contributions                                                                                         277\n",
       "Online course; Self-taught; Open source contributions                                                                                               237\n",
       "Self-taught; Hackathon; Open source contributions                                                                                                   210\n",
       "Online course; On-the-job training; Self-taught; Open source contributions                                                                          193\n",
       "On-the-job training; Self-taught; Hackathon; Open source contributions                                                                              150\n",
       "Self-taught; Hackathon                                                                                                                              145\n",
       "On-the-job training; Self-taught; Hackathon                                                                                                         118\n",
       "Self-taught; Coding competition; Hackathon; Open source contributions                                                                               116\n",
       "Self-taught; Coding competition                                                                                                                     113\n",
       "Online course; Self-taught; Coding competition                                                                                                      111\n",
       "Self-taught; Coding competition; Open source contributions                                                                                          107\n",
       "Online course; On-the-job training; Self-taught; Hackathon; Open source contributions                                                               106\n",
       "Online course; Industry certification; On-the-job training; Self-taught                                                                             105\n",
       "Online course; Self-taught; Hackathon; Open source contributions                                                                                    100\n",
       "Online course; On-the-job training; Self-taught; Coding competition                                                                                 100\n",
       "Online course; On-the-job training; Self-taught; Hackathon                                                                                           94\n",
       "On-the-job training; Self-taught; Coding competition                                                                                                 94\n",
       "Industry certification; Self-taught                                                                                                                  92\n",
       "On-the-job training                                                                                                                                  91\n",
       "Online course; Part-time/evening course; On-the-job training; Self-taught                                                                            86\n",
       "Online course; Self-taught; Hackathon                                                                                                                85\n",
       "Industry certification; On-the-job training; Self-taught                                                                                             80\n",
       "Online course; On-the-job training; Self-taught; Coding competition; Hackathon; Open source contributions                                            79\n",
       "Online course; Self-taught; Coding competition; Hackathon; Open source contributions                                                                 76\n",
       "Online course; Self-taught; Coding competition; Open source contributions                                                                            73\n",
       "                                                                                                                                                   ... \n",
       "Industry certification; Self-taught; Coding competition; Hackathon                                                                                    1\n",
       "Part-time/evening course; Industry certification; On-the-job training; Coding competition; Open source contributions                                  1\n",
       "Part-time/evening course; Industry certification; Self-taught; Coding competition                                                                     1\n",
       "Online course; Bootcamp; Part-time/evening course; Industry certification; Open source contributions                                                  1\n",
       "Online course; Part-time/evening course; Open source contributions                                                                                    1\n",
       "Bootcamp; Part-time/evening course; Industry certification; On-the-job training; Self-taught; Open source contributions                               1\n",
       "Online course; Bootcamp; Part-time/evening course; Self-taught; Coding competition; Open source contributions                                         1\n",
       "Industry certification; On-the-job training; Hackathon; Open source contributions                                                                     1\n",
       "Part-time/evening course; Industry certification; Self-taught; Coding competition; Hackathon; Open source contributions                               1\n",
       "Online course; Bootcamp; Industry certification; Self-taught; Hackathon; Open source contributions                                                    1\n",
       "Bootcamp; Part-time/evening course; On-the-job training; Hackathon                                                                                    1\n",
       "Online course; Bootcamp; Part-time/evening course                                                                                                     1\n",
       "Part-time/evening course; Industry certification; On-the-job training; Self-taught; Coding competition; Open source contributions                     1\n",
       "Online course; Industry certification; Hackathon; Open source contributions                                                                           1\n",
       "Part-time/evening course; Industry certification; On-the-job training; Self-taught; Coding competition; Hackathon                                     1\n",
       "Online course; Bootcamp; Part-time/evening course; Industry certification; Self-taught; Coding competition; Hackathon; Open source contributions      1\n",
       "Bootcamp; Coding competition                                                                                                                          1\n",
       "Online course; Bootcamp; Part-time/evening course; Self-taught; Coding competition; Hackathon                                                         1\n",
       "Online course; Bootcamp; Part-time/evening course; On-the-job training                                                                                1\n",
       "Online course; Industry certification; Coding competition; Open source contributions                                                                  1\n",
       "Online course; Industry certification; On-the-job training; Coding competition; Hackathon                                                             1\n",
       "Online course; Bootcamp; Part-time/evening course; Open source contributions                                                                          1\n",
       "Bootcamp; On-the-job training; Coding competition; Hackathon; Open source contributions                                                               1\n",
       "Online course; Bootcamp; Part-time/evening course; On-the-job training; Open source contributions                                                     1\n",
       "Bootcamp; Part-time/evening course; Industry certification; On-the-job training; Self-taught                                                          1\n",
       "Bootcamp; Part-time/evening course; On-the-job training; Self-taught; Coding competition; Hackathon                                                   1\n",
       "Online course; Industry certification; Hackathon                                                                                                      1\n",
       "On-the-job training; Coding competition; Hackathon; Open source contributions                                                                         1\n",
       "Online course; Bootcamp; Part-time/evening course; Coding competition                                                                                 1\n",
       "Part-time/evening course; Open source contributions                                                                                                   1\n",
       "Name: EducationTypes, Length: 357, dtype: int64"
      ]
     },
     "execution_count": 33,
     "metadata": {},
     "output_type": "execute_result"
    }
   ],
   "source": [
    "df['EducationTypes'].value_counts()\n"
   ]
  },
  {
   "cell_type": "code",
   "execution_count": 34,
   "metadata": {},
   "outputs": [
    {
     "data": {
      "text/html": [
       "<div>\n",
       "<style scoped>\n",
       "    .dataframe tbody tr th:only-of-type {\n",
       "        vertical-align: middle;\n",
       "    }\n",
       "\n",
       "    .dataframe tbody tr th {\n",
       "        vertical-align: top;\n",
       "    }\n",
       "\n",
       "    .dataframe thead th {\n",
       "        text-align: right;\n",
       "    }\n",
       "</style>\n",
       "<table border=\"1\" class=\"dataframe\">\n",
       "  <thead>\n",
       "    <tr style=\"text-align: right;\">\n",
       "      <th></th>\n",
       "      <th>Salary</th>\n",
       "    </tr>\n",
       "    <tr>\n",
       "      <th>EducationTypes</th>\n",
       "      <th></th>\n",
       "    </tr>\n",
       "  </thead>\n",
       "  <tbody>\n",
       "    <tr>\n",
       "      <th>Bootcamp; Industry certification; On-the-job training; Self-taught; Coding competition</th>\n",
       "      <td>164000.000000</td>\n",
       "    </tr>\n",
       "    <tr>\n",
       "      <th>Bootcamp; Industry certification; On-the-job training; Self-taught; Coding competition; Open source contributions</th>\n",
       "      <td>160000.000000</td>\n",
       "    </tr>\n",
       "    <tr>\n",
       "      <th>Industry certification; On-the-job training; Coding competition; Open source contributions</th>\n",
       "      <td>137000.000000</td>\n",
       "    </tr>\n",
       "    <tr>\n",
       "      <th>Online course; Bootcamp; Part-time/evening course; On-the-job training; Coding competition; Hackathon; Open source contributions</th>\n",
       "      <td>135000.000000</td>\n",
       "    </tr>\n",
       "    <tr>\n",
       "      <th>Part-time/evening course; Industry certification; Self-taught; Hackathon; Open source contributions</th>\n",
       "      <td>117500.000000</td>\n",
       "    </tr>\n",
       "    <tr>\n",
       "      <th>Online course; Bootcamp; Part-time/evening course; Self-taught; Open source contributions</th>\n",
       "      <td>114333.333333</td>\n",
       "    </tr>\n",
       "    <tr>\n",
       "      <th>Bootcamp; Part-time/evening course; Industry certification; On-the-job training; Self-taught; Open source contributions</th>\n",
       "      <td>113636.363636</td>\n",
       "    </tr>\n",
       "    <tr>\n",
       "      <th>Bootcamp; Part-time/evening course; Industry certification; On-the-job training; Self-taught; Coding competition; Hackathon; Open source contributions</th>\n",
       "      <td>110000.000000</td>\n",
       "    </tr>\n",
       "    <tr>\n",
       "      <th>Online course; Industry certification; Hackathon</th>\n",
       "      <td>110000.000000</td>\n",
       "    </tr>\n",
       "    <tr>\n",
       "      <th>Bootcamp; On-the-job training; Self-taught; Hackathon; Open source contributions</th>\n",
       "      <td>108826.219576</td>\n",
       "    </tr>\n",
       "    <tr>\n",
       "      <th>Bootcamp; Part-time/evening course; On-the-job training; Self-taught; Coding competition; Open source contributions</th>\n",
       "      <td>108500.000000</td>\n",
       "    </tr>\n",
       "    <tr>\n",
       "      <th>Online course; Bootcamp; Part-time/evening course; Industry certification; On-the-job training; Self-taught; Hackathon; Open source contributions</th>\n",
       "      <td>100869.615385</td>\n",
       "    </tr>\n",
       "    <tr>\n",
       "      <th>Bootcamp; Industry certification; On-the-job training; Self-taught; Open source contributions</th>\n",
       "      <td>100000.000000</td>\n",
       "    </tr>\n",
       "    <tr>\n",
       "      <th>Online course; Bootcamp; On-the-job training; Coding competition; Hackathon</th>\n",
       "      <td>100000.000000</td>\n",
       "    </tr>\n",
       "    <tr>\n",
       "      <th>Online course; Bootcamp; Industry certification; Self-taught; Coding competition; Open source contributions</th>\n",
       "      <td>99715.099715</td>\n",
       "    </tr>\n",
       "    <tr>\n",
       "      <th>Part-time/evening course; Industry certification; On-the-job training; Self-taught; Coding competition; Hackathon; Open source contributions</th>\n",
       "      <td>99642.529599</td>\n",
       "    </tr>\n",
       "    <tr>\n",
       "      <th>Online course; Bootcamp; Industry certification; On-the-job training; Self-taught; Hackathon</th>\n",
       "      <td>99544.802867</td>\n",
       "    </tr>\n",
       "    <tr>\n",
       "      <th>Online course; Bootcamp; Part-time/evening course; Industry certification; On-the-job training; Self-taught</th>\n",
       "      <td>97568.391286</td>\n",
       "    </tr>\n",
       "    <tr>\n",
       "      <th>Part-time/evening course; On-the-job training; Self-taught; Coding competition; Hackathon; Open source contributions</th>\n",
       "      <td>95903.140661</td>\n",
       "    </tr>\n",
       "    <tr>\n",
       "      <th>Part-time/evening course; Industry certification; Self-taught; Hackathon</th>\n",
       "      <td>94696.969697</td>\n",
       "    </tr>\n",
       "    <tr>\n",
       "      <th>Online course; Bootcamp; On-the-job training; Self-taught; Coding competition</th>\n",
       "      <td>94028.765153</td>\n",
       "    </tr>\n",
       "    <tr>\n",
       "      <th>Online course; Bootcamp; Industry certification; Self-taught; Hackathon</th>\n",
       "      <td>92000.000000</td>\n",
       "    </tr>\n",
       "    <tr>\n",
       "      <th>Bootcamp; On-the-job training; Self-taught; Coding competition; Hackathon; Open source contributions</th>\n",
       "      <td>91662.400000</td>\n",
       "    </tr>\n",
       "    <tr>\n",
       "      <th>Online course; Bootcamp; Part-time/evening course; On-the-job training; Self-taught; Hackathon; Open source contributions</th>\n",
       "      <td>89375.000000</td>\n",
       "    </tr>\n",
       "    <tr>\n",
       "      <th>Online course; Industry certification; Self-taught; Hackathon; Open source contributions</th>\n",
       "      <td>88924.660694</td>\n",
       "    </tr>\n",
       "    <tr>\n",
       "      <th>Online course; Bootcamp; Industry certification; On-the-job training; Self-taught; Coding competition; Hackathon; Open source contributions</th>\n",
       "      <td>88772.167234</td>\n",
       "    </tr>\n",
       "    <tr>\n",
       "      <th>Part-time/evening course; Self-taught; Coding competition; Open source contributions</th>\n",
       "      <td>87380.682092</td>\n",
       "    </tr>\n",
       "    <tr>\n",
       "      <th>Online course; Bootcamp; Industry certification; Self-taught; Open source contributions</th>\n",
       "      <td>87171.717172</td>\n",
       "    </tr>\n",
       "    <tr>\n",
       "      <th>Bootcamp; Self-taught; Coding competition; Hackathon; Open source contributions</th>\n",
       "      <td>84855.800000</td>\n",
       "    </tr>\n",
       "    <tr>\n",
       "      <th>Online course; Part-time/evening course; Industry certification; On-the-job training; Self-taught; Hackathon</th>\n",
       "      <td>84163.860070</td>\n",
       "    </tr>\n",
       "    <tr>\n",
       "      <th>...</th>\n",
       "      <td>...</td>\n",
       "    </tr>\n",
       "    <tr>\n",
       "      <th>Online course; Part-time/evening course; On-the-job training</th>\n",
       "      <td>18025.053296</td>\n",
       "    </tr>\n",
       "    <tr>\n",
       "      <th>Online course; On-the-job training; Coding competition; Hackathon; Open source contributions</th>\n",
       "      <td>18001.059042</td>\n",
       "    </tr>\n",
       "    <tr>\n",
       "      <th>Part-time/evening course; Industry certification; Self-taught; Coding competition; Open source contributions</th>\n",
       "      <td>16884.451622</td>\n",
       "    </tr>\n",
       "    <tr>\n",
       "      <th>Bootcamp; Part-time/evening course; On-the-job training</th>\n",
       "      <td>16426.950119</td>\n",
       "    </tr>\n",
       "    <tr>\n",
       "      <th>Industry certification; Coding competition; Hackathon</th>\n",
       "      <td>16150.345030</td>\n",
       "    </tr>\n",
       "    <tr>\n",
       "      <th>Online course; Part-time/evening course; Industry certification; On-the-job training</th>\n",
       "      <td>16076.555024</td>\n",
       "    </tr>\n",
       "    <tr>\n",
       "      <th>Bootcamp; Part-time/evening course; On-the-job training; Self-taught; Coding competition; Hackathon; Open source contributions</th>\n",
       "      <td>15806.451613</td>\n",
       "    </tr>\n",
       "    <tr>\n",
       "      <th>Part-time/evening course</th>\n",
       "      <td>15219.166621</td>\n",
       "    </tr>\n",
       "    <tr>\n",
       "      <th>Part-time/evening course; Hackathon</th>\n",
       "      <td>13228.948112</td>\n",
       "    </tr>\n",
       "    <tr>\n",
       "      <th>Online course; Bootcamp; Part-time/evening course</th>\n",
       "      <td>12000.000000</td>\n",
       "    </tr>\n",
       "    <tr>\n",
       "      <th>Online course; Bootcamp; Industry certification; Self-taught; Coding competition; Hackathon; Open source contributions</th>\n",
       "      <td>10762.331839</td>\n",
       "    </tr>\n",
       "    <tr>\n",
       "      <th>Online course; Part-time/evening course; Industry certification; On-the-job training; Self-taught; Coding competition</th>\n",
       "      <td>10378.374937</td>\n",
       "    </tr>\n",
       "    <tr>\n",
       "      <th>Bootcamp; Part-time/evening course; Industry certification; Self-taught; Hackathon</th>\n",
       "      <td>10196.898439</td>\n",
       "    </tr>\n",
       "    <tr>\n",
       "      <th>Online course; Bootcamp; Part-time/evening course; Hackathon</th>\n",
       "      <td>8809.279107</td>\n",
       "    </tr>\n",
       "    <tr>\n",
       "      <th>Online course; Bootcamp; Industry certification; On-the-job training; Coding competition</th>\n",
       "      <td>8064.516129</td>\n",
       "    </tr>\n",
       "    <tr>\n",
       "      <th>Bootcamp; Industry certification; Self-taught; Hackathon; Open source contributions</th>\n",
       "      <td>7341.065923</td>\n",
       "    </tr>\n",
       "    <tr>\n",
       "      <th>Online course; Bootcamp; Part-time/evening course; Industry certification; On-the-job training; Self-taught; Coding competition; Hackathon</th>\n",
       "      <td>7157.539275</td>\n",
       "    </tr>\n",
       "    <tr>\n",
       "      <th>Bootcamp; Part-time/evening course; On-the-job training; Hackathon</th>\n",
       "      <td>5000.000000</td>\n",
       "    </tr>\n",
       "    <tr>\n",
       "      <th>Bootcamp; Part-time/evening course; Self-taught; Coding competition; Open source contributions</th>\n",
       "      <td>4101.159888</td>\n",
       "    </tr>\n",
       "    <tr>\n",
       "      <th>Bootcamp; Part-time/evening course; Industry certification; Self-taught</th>\n",
       "      <td>3034.307248</td>\n",
       "    </tr>\n",
       "    <tr>\n",
       "      <th>Part-time/evening course; Open source contributions</th>\n",
       "      <td>2740.798747</td>\n",
       "    </tr>\n",
       "    <tr>\n",
       "      <th>Online course; Bootcamp; Part-time/evening course; Coding competition</th>\n",
       "      <td>2580.645161</td>\n",
       "    </tr>\n",
       "    <tr>\n",
       "      <th>Bootcamp; Part-time/evening course; Industry certification; On-the-job training; Self-taught</th>\n",
       "      <td>2202.319777</td>\n",
       "    </tr>\n",
       "    <tr>\n",
       "      <th>Online course; Industry certification; On-the-job training; Coding competition; Hackathon</th>\n",
       "      <td>1615.034503</td>\n",
       "    </tr>\n",
       "    <tr>\n",
       "      <th>Bootcamp; Part-time/evening course; Industry certification</th>\n",
       "      <td>1000.000000</td>\n",
       "    </tr>\n",
       "    <tr>\n",
       "      <th>Part-time/evening course; Industry certification; Self-taught; Coding competition</th>\n",
       "      <td>352.371164</td>\n",
       "    </tr>\n",
       "    <tr>\n",
       "      <th>Online course; Bootcamp; Part-time/evening course; On-the-job training</th>\n",
       "      <td>220.231978</td>\n",
       "    </tr>\n",
       "    <tr>\n",
       "      <th>Online course; Part-time/evening course; Industry certification; Self-taught; Coding competition; Hackathon</th>\n",
       "      <td>202.662384</td>\n",
       "    </tr>\n",
       "    <tr>\n",
       "      <th>Bootcamp; Part-time/evening course</th>\n",
       "      <td>146.821318</td>\n",
       "    </tr>\n",
       "    <tr>\n",
       "      <th>Online course; Bootcamp; Part-time/evening course; Industry certification; On-the-job training</th>\n",
       "      <td>7.000000</td>\n",
       "    </tr>\n",
       "  </tbody>\n",
       "</table>\n",
       "<p>357 rows × 1 columns</p>\n",
       "</div>"
      ],
      "text/plain": [
       "                                                           Salary\n",
       "EducationTypes                                                   \n",
       "Bootcamp; Industry certification; On-the-job tr...  164000.000000\n",
       "Bootcamp; Industry certification; On-the-job tr...  160000.000000\n",
       "Industry certification; On-the-job training; Co...  137000.000000\n",
       "Online course; Bootcamp; Part-time/evening cour...  135000.000000\n",
       "Part-time/evening course; Industry certificatio...  117500.000000\n",
       "Online course; Bootcamp; Part-time/evening cour...  114333.333333\n",
       "Bootcamp; Part-time/evening course; Industry ce...  113636.363636\n",
       "Bootcamp; Part-time/evening course; Industry ce...  110000.000000\n",
       "Online course; Industry certification; Hackathon    110000.000000\n",
       "Bootcamp; On-the-job training; Self-taught; Hac...  108826.219576\n",
       "Bootcamp; Part-time/evening course; On-the-job ...  108500.000000\n",
       "Online course; Bootcamp; Part-time/evening cour...  100869.615385\n",
       "Bootcamp; Industry certification; On-the-job tr...  100000.000000\n",
       "Online course; Bootcamp; On-the-job training; C...  100000.000000\n",
       "Online course; Bootcamp; Industry certification...   99715.099715\n",
       "Part-time/evening course; Industry certificatio...   99642.529599\n",
       "Online course; Bootcamp; Industry certification...   99544.802867\n",
       "Online course; Bootcamp; Part-time/evening cour...   97568.391286\n",
       "Part-time/evening course; On-the-job training; ...   95903.140661\n",
       "Part-time/evening course; Industry certificatio...   94696.969697\n",
       "Online course; Bootcamp; On-the-job training; S...   94028.765153\n",
       "Online course; Bootcamp; Industry certification...   92000.000000\n",
       "Bootcamp; On-the-job training; Self-taught; Cod...   91662.400000\n",
       "Online course; Bootcamp; Part-time/evening cour...   89375.000000\n",
       "Online course; Industry certification; Self-tau...   88924.660694\n",
       "Online course; Bootcamp; Industry certification...   88772.167234\n",
       "Part-time/evening course; Self-taught; Coding c...   87380.682092\n",
       "Online course; Bootcamp; Industry certification...   87171.717172\n",
       "Bootcamp; Self-taught; Coding competition; Hack...   84855.800000\n",
       "Online course; Part-time/evening course; Indust...   84163.860070\n",
       "...                                                           ...\n",
       "Online course; Part-time/evening course; On-the...   18025.053296\n",
       "Online course; On-the-job training; Coding comp...   18001.059042\n",
       "Part-time/evening course; Industry certificatio...   16884.451622\n",
       "Bootcamp; Part-time/evening course; On-the-job ...   16426.950119\n",
       "Industry certification; Coding competition; Hac...   16150.345030\n",
       "Online course; Part-time/evening course; Indust...   16076.555024\n",
       "Bootcamp; Part-time/evening course; On-the-job ...   15806.451613\n",
       "Part-time/evening course                             15219.166621\n",
       "Part-time/evening course; Hackathon                  13228.948112\n",
       "Online course; Bootcamp; Part-time/evening course    12000.000000\n",
       "Online course; Bootcamp; Industry certification...   10762.331839\n",
       "Online course; Part-time/evening course; Indust...   10378.374937\n",
       "Bootcamp; Part-time/evening course; Industry ce...   10196.898439\n",
       "Online course; Bootcamp; Part-time/evening cour...    8809.279107\n",
       "Online course; Bootcamp; Industry certification...    8064.516129\n",
       "Bootcamp; Industry certification; Self-taught; ...    7341.065923\n",
       "Online course; Bootcamp; Part-time/evening cour...    7157.539275\n",
       "Bootcamp; Part-time/evening course; On-the-job ...    5000.000000\n",
       "Bootcamp; Part-time/evening course; Self-taught...    4101.159888\n",
       "Bootcamp; Part-time/evening course; Industry ce...    3034.307248\n",
       "Part-time/evening course; Open source contribut...    2740.798747\n",
       "Online course; Bootcamp; Part-time/evening cour...    2580.645161\n",
       "Bootcamp; Part-time/evening course; Industry ce...    2202.319777\n",
       "Online course; Industry certification; On-the-j...    1615.034503\n",
       "Bootcamp; Part-time/evening course; Industry ce...    1000.000000\n",
       "Part-time/evening course; Industry certificatio...     352.371164\n",
       "Online course; Bootcamp; Part-time/evening cour...     220.231978\n",
       "Online course; Part-time/evening course; Indust...     202.662384\n",
       "Bootcamp; Part-time/evening course                     146.821318\n",
       "Online course; Bootcamp; Part-time/evening cour...       7.000000\n",
       "\n",
       "[357 rows x 1 columns]"
      ]
     },
     "execution_count": 34,
     "metadata": {},
     "output_type": "execute_result"
    }
   ],
   "source": [
    "df.loc[:, ['EducationTypes','Salary']].groupby(by='EducationTypes').mean().sort_values('Salary', ascending=False)"
   ]
  },
  {
   "cell_type": "code",
   "execution_count": 35,
   "metadata": {},
   "outputs": [
    {
     "name": "stdout",
     "output_type": "stream",
     "text": [
      "Are you currently enrolled in a formal, degree-granting college or university program?\n"
     ]
    }
   ],
   "source": [
    "print( get_desc('University',df2))"
   ]
  },
  {
   "cell_type": "code",
   "execution_count": 36,
   "metadata": {},
   "outputs": [
    {
     "data": {
      "text/plain": [
       "No                     11133\n",
       "Yes, full-time           945\n",
       "Yes, part-time           728\n",
       "I prefer not to say       85\n",
       "Name: University, dtype: int64"
      ]
     },
     "execution_count": 36,
     "metadata": {},
     "output_type": "execute_result"
    }
   ],
   "source": [
    "df['University'].value_counts()"
   ]
  },
  {
   "cell_type": "code",
   "execution_count": 37,
   "metadata": {},
   "outputs": [
    {
     "data": {
      "text/html": [
       "<div>\n",
       "<style scoped>\n",
       "    .dataframe tbody tr th:only-of-type {\n",
       "        vertical-align: middle;\n",
       "    }\n",
       "\n",
       "    .dataframe tbody tr th {\n",
       "        vertical-align: top;\n",
       "    }\n",
       "\n",
       "    .dataframe thead th {\n",
       "        text-align: right;\n",
       "    }\n",
       "</style>\n",
       "<table border=\"1\" class=\"dataframe\">\n",
       "  <thead>\n",
       "    <tr style=\"text-align: right;\">\n",
       "      <th></th>\n",
       "      <th>Salary</th>\n",
       "    </tr>\n",
       "    <tr>\n",
       "      <th>University</th>\n",
       "      <th></th>\n",
       "    </tr>\n",
       "  </thead>\n",
       "  <tbody>\n",
       "    <tr>\n",
       "      <th>No</th>\n",
       "      <td>59992.310288</td>\n",
       "    </tr>\n",
       "    <tr>\n",
       "      <th>Yes, part-time</th>\n",
       "      <td>37980.275704</td>\n",
       "    </tr>\n",
       "    <tr>\n",
       "      <th>Yes, full-time</th>\n",
       "      <td>29680.073818</td>\n",
       "    </tr>\n",
       "    <tr>\n",
       "      <th>I prefer not to say</th>\n",
       "      <td>25317.800321</td>\n",
       "    </tr>\n",
       "  </tbody>\n",
       "</table>\n",
       "</div>"
      ],
      "text/plain": [
       "                           Salary\n",
       "University                       \n",
       "No                   59992.310288\n",
       "Yes, part-time       37980.275704\n",
       "Yes, full-time       29680.073818\n",
       "I prefer not to say  25317.800321"
      ]
     },
     "execution_count": 37,
     "metadata": {},
     "output_type": "execute_result"
    }
   ],
   "source": [
    "df.loc[:, ['University','Salary']].groupby(by='University').mean().sort_values('Salary', ascending=False)"
   ]
  },
  {
   "cell_type": "code",
   "execution_count": 38,
   "metadata": {},
   "outputs": [
    {
     "name": "stdout",
     "output_type": "stream",
     "text": [
      "Overall, how important has your formal schooling and education been to your career success?\n"
     ]
    }
   ],
   "source": [
    "print( get_desc('EducationImportant',df2))"
   ]
  },
  {
   "cell_type": "code",
   "execution_count": 39,
   "metadata": {},
   "outputs": [
    {
     "data": {
      "text/plain": [
       "Somewhat important      2476\n",
       "Important               2222\n",
       "Not very important      1966\n",
       "Very important          1375\n",
       "Not at all important    1019\n",
       "Name: EducationImportant, dtype: int64"
      ]
     },
     "execution_count": 39,
     "metadata": {},
     "output_type": "execute_result"
    }
   ],
   "source": [
    "df['EducationImportant'].value_counts()\n"
   ]
  },
  {
   "cell_type": "code",
   "execution_count": 40,
   "metadata": {},
   "outputs": [],
   "source": [
    "df_EducationImportants =df.loc[:, ['EducationImportant','Salary']].groupby(by='EducationImportant').mean().sort_values('Salary', ascending=False)"
   ]
  },
  {
   "cell_type": "code",
   "execution_count": 41,
   "metadata": {},
   "outputs": [
    {
     "data": {
      "text/plain": [
       "<matplotlib.axes._subplots.AxesSubplot at 0x290d9b29780>"
      ]
     },
     "execution_count": 41,
     "metadata": {},
     "output_type": "execute_result"
    },
    {
     "data": {
      "image/png": "[encoded data removed]",
      "text/plain": [
       "<Figure size 432x288 with 1 Axes>"
      ]
     },
     "metadata": {
      "needs_background": "light"
     },
     "output_type": "display_data"
    }
   ],
   "source": [
    "df_EducationImportants.plot(kind='bar')\n"
   ]
  },
  {
   "cell_type": "code",
   "execution_count": 42,
   "metadata": {},
   "outputs": [
    {
     "data": {
      "text/html": [
       "<div>\n",
       "<style scoped>\n",
       "    .dataframe tbody tr th:only-of-type {\n",
       "        vertical-align: middle;\n",
       "    }\n",
       "\n",
       "    .dataframe tbody tr th {\n",
       "        vertical-align: top;\n",
       "    }\n",
       "\n",
       "    .dataframe thead th {\n",
       "        text-align: right;\n",
       "    }\n",
       "</style>\n",
       "<table border=\"1\" class=\"dataframe\">\n",
       "  <thead>\n",
       "    <tr style=\"text-align: right;\">\n",
       "      <th></th>\n",
       "      <th>Salary</th>\n",
       "    </tr>\n",
       "    <tr>\n",
       "      <th>EducationImportant</th>\n",
       "      <th></th>\n",
       "    </tr>\n",
       "  </thead>\n",
       "  <tbody>\n",
       "    <tr>\n",
       "      <th>Very important</th>\n",
       "      <td>59541.444482</td>\n",
       "    </tr>\n",
       "    <tr>\n",
       "      <th>Not at all important</th>\n",
       "      <td>58676.103645</td>\n",
       "    </tr>\n",
       "    <tr>\n",
       "      <th>Important</th>\n",
       "      <td>55949.466853</td>\n",
       "    </tr>\n",
       "    <tr>\n",
       "      <th>Somewhat important</th>\n",
       "      <td>55751.705967</td>\n",
       "    </tr>\n",
       "    <tr>\n",
       "      <th>Not very important</th>\n",
       "      <td>55498.730833</td>\n",
       "    </tr>\n",
       "  </tbody>\n",
       "</table>\n",
       "</div>"
      ],
      "text/plain": [
       "                            Salary\n",
       "EducationImportant                \n",
       "Very important        59541.444482\n",
       "Not at all important  58676.103645\n",
       "Important             55949.466853\n",
       "Somewhat important    55751.705967\n",
       "Not very important    55498.730833"
      ]
     },
     "execution_count": 42,
     "metadata": {},
     "output_type": "execute_result"
    }
   ],
   "source": [
    "df_EducationImportants"
   ]
  },
  {
   "cell_type": "code",
   "execution_count": 43,
   "metadata": {},
   "outputs": [
    {
     "name": "stdout",
     "output_type": "stream",
     "text": [
      "Overall, how important has your formal schooling and education been to your career success?\n"
     ]
    }
   ],
   "source": [
    "print( get_desc('EducationImportant',df2))"
   ]
  },
  {
   "cell_type": "code",
   "execution_count": 44,
   "metadata": {},
   "outputs": [
    {
     "name": "stdout",
     "output_type": "stream",
     "text": [
      "Are you currently enrolled in a formal, degree-granting college or university program?\n"
     ]
    }
   ],
   "source": [
    "print( get_desc('University',df2))"
   ]
  },
  {
   "cell_type": "code",
   "execution_count": 45,
   "metadata": {},
   "outputs": [
    {
     "name": "stdout",
     "output_type": "stream",
     "text": [
      "What is the highest level of education received by either of your parents?\n"
     ]
    }
   ],
   "source": [
    "print( get_desc('HighestEducationParents',df2))"
   ]
  },
  {
   "cell_type": "code",
   "execution_count": 46,
   "metadata": {},
   "outputs": [
    {
     "data": {
      "text/html": [
       "<div>\n",
       "<style scoped>\n",
       "    .dataframe tbody tr th:only-of-type {\n",
       "        vertical-align: middle;\n",
       "    }\n",
       "\n",
       "    .dataframe tbody tr th {\n",
       "        vertical-align: top;\n",
       "    }\n",
       "\n",
       "    .dataframe thead th {\n",
       "        text-align: right;\n",
       "    }\n",
       "</style>\n",
       "<table border=\"1\" class=\"dataframe\">\n",
       "  <thead>\n",
       "    <tr style=\"text-align: right;\">\n",
       "      <th></th>\n",
       "      <th>Salary</th>\n",
       "    </tr>\n",
       "    <tr>\n",
       "      <th>HighestEducationParents</th>\n",
       "      <th></th>\n",
       "    </tr>\n",
       "  </thead>\n",
       "  <tbody>\n",
       "    <tr>\n",
       "      <th>A doctoral degree</th>\n",
       "      <td>68611.436276</td>\n",
       "    </tr>\n",
       "    <tr>\n",
       "      <th>A professional degree</th>\n",
       "      <td>64436.422260</td>\n",
       "    </tr>\n",
       "    <tr>\n",
       "      <th>A master's degree</th>\n",
       "      <td>60454.005886</td>\n",
       "    </tr>\n",
       "    <tr>\n",
       "      <th>Some college/university study, no bachelor's degree</th>\n",
       "      <td>60013.580080</td>\n",
       "    </tr>\n",
       "    <tr>\n",
       "      <th>A bachelor's degree</th>\n",
       "      <td>57204.205486</td>\n",
       "    </tr>\n",
       "    <tr>\n",
       "      <th>High school</th>\n",
       "      <td>50930.764811</td>\n",
       "    </tr>\n",
       "    <tr>\n",
       "      <th>I don't know/not sure</th>\n",
       "      <td>49553.558412</td>\n",
       "    </tr>\n",
       "    <tr>\n",
       "      <th>I prefer not to answer</th>\n",
       "      <td>45081.722501</td>\n",
       "    </tr>\n",
       "    <tr>\n",
       "      <th>Primary/elementary school</th>\n",
       "      <td>39337.837086</td>\n",
       "    </tr>\n",
       "    <tr>\n",
       "      <th>No education</th>\n",
       "      <td>38277.773591</td>\n",
       "    </tr>\n",
       "  </tbody>\n",
       "</table>\n",
       "</div>"
      ],
      "text/plain": [
       "                                                          Salary\n",
       "HighestEducationParents                                         \n",
       "A doctoral degree                                   68611.436276\n",
       "A professional degree                               64436.422260\n",
       "A master's degree                                   60454.005886\n",
       "Some college/university study, no bachelor's de...  60013.580080\n",
       "A bachelor's degree                                 57204.205486\n",
       "High school                                         50930.764811\n",
       "I don't know/not sure                               49553.558412\n",
       "I prefer not to answer                              45081.722501\n",
       "Primary/elementary school                           39337.837086\n",
       "No education                                        38277.773591"
      ]
     },
     "execution_count": 46,
     "metadata": {},
     "output_type": "execute_result"
    }
   ],
   "source": [
    "df.loc[:, ['HighestEducationParents','Salary']].groupby(by='HighestEducationParents').mean().sort_values('Salary', ascending=False)"
   ]
  },
  {
   "cell_type": "code",
   "execution_count": 47,
   "metadata": {},
   "outputs": [
    {
     "data": {
      "image/png": "[encoded data removed]",
      "text/plain": [
       "<Figure size 432x288 with 1 Axes>"
      ]
     },
     "metadata": {
      "needs_background": "light"
     },
     "output_type": "display_data"
    }
   ],
   "source": [
    "ed_vals =df.FormalEducation.value_counts()\n",
    "#Provide a pandas series of the counts for each FormalEducation status\n",
    "\n",
    "# The below should be a bar chart of the proportion of individuals in your ed_vals\n",
    "# if it is set up correctly.\n",
    "\n",
    "(ed_vals/df.shape[0]).plot(kind=\"bar\");\n",
    "plt.title(\"Formal Education\");"
   ]
  }
 ],
 "metadata": {
  "kernelspec": {
   "display_name": "Python 3",
   "language": "python",
   "name": "python3"
  },
  "language_info": {
   "codemirror_mode": {
    "name": "ipython",
    "version": 3
   },
   "file_extension": ".py",
   "mimetype": "text/x-python",
   "name": "python",
   "nbconvert_exporter": "python",
   "pygments_lexer": "ipython3",
   "version": "3.7.1"
  }
 },
 "nbformat": 4,
 "nbformat_minor": 2
}
